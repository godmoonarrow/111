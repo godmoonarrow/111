{
  "nbformat": 4,
  "nbformat_minor": 0,
  "metadata": {
    "colab": {
      "provenance": []
    },
    "kernelspec": {
      "name": "python3",
      "display_name": "Python 3"
    },
    "language_info": {
      "name": "python"
    }
  },
  "cells": [
    {
      "cell_type": "code",
      "execution_count": 1,
      "metadata": {
        "id": "vCpwclQbFaNl",
        "colab": {
          "base_uri": "https://localhost:8080/"
        },
        "outputId": "21b594bf-ed68-4aac-88c5-370cd4a159ab"
      },
      "outputs": [
        {
          "output_type": "stream",
          "name": "stdout",
          "text": [
            "\n",
            "您想查詢什麼？(藥方名稱/出典/處方/效能/適應症/退出查詢)：藥方名稱\n",
            "濟生腎氣丸《丸》\n",
            "\n",
            "您想查詢什麼？(藥方名稱/出典/處方/效能/適應症/退出查詢)：處方\n",
            "濟生腎氣丸《丸》的處方為:\n",
            "熟地黃：8公克\n",
            "山茱萸：4公克\n",
            "山藥：4公克\n",
            "茯苓：6公克\n",
            "牡丹皮：3公克\n",
            "澤瀉：3公克\n",
            "桂枝：1公克\n",
            "附子：1公克\n",
            "牛膝：2公克\n",
            "車前子：2公克\n",
            "總克數為：34公克\n",
            "\n",
            "您想查詢什麼？(藥方名稱/出典/處方/效能/適應症/退出查詢)：效能\n",
            "濟生腎氣丸《丸》的效能是:溫補腎陽、利水消腫\n",
            "\n",
            "您想查詢什麼？(藥方名稱/出典/處方/效能/適應症/退出查詢)：退出查詢\n",
            "感謝使用，再見！\n"
          ]
        }
      ],
      "source": [
        "prescription = {\n",
        "    '名稱': '濟生腎氣丸《丸》',\n",
        "    '出典': '濟生方',\n",
        "    '處方': {\n",
        "        '熟地黃': 8,  # 公克\n",
        "        '山茱萸': 4,\n",
        "        '山藥': 4,\n",
        "        '茯苓': 6,\n",
        "        '牡丹皮': 3,\n",
        "        '澤瀉': 3,\n",
        "        '桂枝': 1,\n",
        "        '附子': 1,\n",
        "        '牛膝': 2,\n",
        "        '車前子': 2,\n",
        "\n",
        "\n",
        "    },\n",
        "    '效能': '溫補腎陽、利水消腫',\n",
        "    '適應症': ['腎陽不足', '、腰膝痠重', '小便不利']\n",
        "}\n",
        "\n",
        "# 使用 while 迴圈提供查詢服務\n",
        "while True:\n",
        "    query = input(\"\\n您想查詢什麼？(藥方名稱/出典/處方/效能/適應症/退出查詢)：\")\n",
        "\n",
        "    if query == \"藥方名稱\":\n",
        "        print(f\"{prescription['名稱']}\")\n",
        "    elif query == \"出典\":\n",
        "        print(f\"{prescription['名稱']}的出典為:{prescription['出典']}\")\n",
        "    elif query == \"適應症\":\n",
        "        print(f\"{prescription['名稱']}的適應症有:\")\n",
        "        for symptom in prescription['適應症']:\n",
        "            print(symptom)\n",
        "    elif query == \"處方\":\n",
        "        total_weight = sum(prescription['處方'].values())\n",
        "        print(f\"{prescription['名稱']}的處方為:\")\n",
        "        for medicine, weight in prescription['處方'].items():\n",
        "            print(f\"{medicine}：{weight}公克\")\n",
        "        print(f\"總克數為：{total_weight}公克\")\n",
        "    elif query == \"效能\":\n",
        "        print(f\"{prescription['名稱']}的效能是:{prescription['效能']}\")\n",
        "    elif query == \"退出查詢\":\n",
        "        print(\"感謝使用，再見！\")\n",
        "        break\n",
        "    else:\n",
        "        print(\"輸入無效，請重新輸入。\")"
      ]
    }
  ]
}